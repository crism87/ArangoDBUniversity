{
 "cells": [
  {
   "cell_type": "markdown",
   "metadata": {},
   "source": [
    "![arangodb](img/ArangoDB_logo.png)"
   ]
  },
  {
   "cell_type": "markdown",
   "metadata": {},
   "source": [
    "# Fuzzy Search "
   ]
  },
  {
   "cell_type": "markdown",
   "metadata": {},
   "source": [
    "<a href=\"https://colab.research.google.com/github/joerg84/ArangoDBUniversity/blob/master/FuzzySearch.ipynb\" target=\"_parent\"><img src=\"https://colab.research.google.com/assets/colab-badge.svg\" alt=\"Open In Colab\"/></a>"
   ]
  },
  {
   "cell_type": "markdown",
   "metadata": {},
   "source": [
    "ArangoSearch provides information retrieval features, natively integrated into ArangoDB’s query language and with support for all data models. It is primarily a full-text search engine, a much more powerful alternative to the full-text index type.\n",
    "Check this [ArangoSearch notebook](https://colab.research.google.com/github/joerg84/ArangoDBUniversity/blob/master/ArangoSearch.ipynb) for an introduction to ArangoSearch.\n",
    "\n",
    "When dealing with real-world text retrieval, we often not only care about exact matches to our search phrase but need to consider for example typos or alternative spellings.\n",
    "“Fuzzy search” is an umbrella term referring to a set of algorithms for such approximate matching. Usually such algorithms evaluate some similarity measure showing how close a search term is to the items in a dictionary. Then a search engine can make a decision on which results have to be shown first.\n",
    "\n",
    "In this notebook we will apply at two different implementation of fuzzy search in [ArangoSearch](https://www.arangodb.com/why-arangodb/full-text-search-engine-arangosearch/):\n",
    "* [Levenshtein distance](https://www.arangodb.com/docs/devel/aql/functions-arangosearch.html#levenshtein_match\n",
    ")\n",
    "* [NGram similarity](https://www.arangodb.com/docs/devel/aql/functions-arangosearch.html#ngram_match)"
   ]
  },
  {
   "cell_type": "markdown",
   "metadata": {},
   "source": [
    "# Setup "
   ]
  },
  {
   "cell_type": "markdown",
   "metadata": {},
   "source": [
    "Before getting started with ArangoSearch we need to prepare our environment and create a temporary database on ArangoDB's managed Service Oasis."
   ]
  },
  {
   "cell_type": "code",
   "execution_count": null,
   "metadata": {},
   "outputs": [],
   "source": [
    "%%capture\n",
    "!git clone https://github.com/joerg84/ArangoDBUniversity.git\n",
    "!rsync -av ArangoDBUniversity/ ./ --exclude=.git\n",
    "!pip3 install pyarango\n",
    "!pip3 install \"python-arango>=5.0\""
   ]
  },
  {
   "cell_type": "code",
   "execution_count": 4,
   "metadata": {},
   "outputs": [],
   "source": [
    "import json\n",
    "import requests\n",
    "import sys\n",
    "import oasis\n",
    "import time\n",
    "\n",
    "from pyArango.connection import *\n",
    "from arango import ArangoClient"
   ]
  },
  {
   "cell_type": "markdown",
   "metadata": {},
   "source": [
    "Create the temporary database:"
   ]
  },
  {
   "cell_type": "code",
   "execution_count": 5,
   "metadata": {},
   "outputs": [
    {
     "name": "stdout",
     "output_type": "stream",
     "text": [
      "Reusing cached credentials.\n"
     ]
    }
   ],
   "source": [
    "# Retrieve tmp credentials from ArangoDB Tutorial Service\n",
    "login = oasis.getTempCredentials(tutorialName=\"ArangoSearchIMDBTutorial\", credentialProvider=\"https://11d01f3948fe.arangodb.cloud:8529/_db/_system/tutorialDB/tutorialDB\")\n",
    "\n",
    "# Connect to the temp database\n",
    "# Please note that we use the python-arango driver as it has better support for ArangoSearch \n",
    "database = oasis.connect_python_arango(login)"
   ]
  },
  {
   "cell_type": "code",
   "execution_count": null,
   "metadata": {},
   "outputs": [],
   "source": [
    "print(\"https://\"+login[\"hostname\"]+\":\"+str(login[\"port\"]))\n",
    "print(\"Username: \" + login[\"username\"])\n",
    "print(\"Password: \" + login[\"password\"])\n",
    "print(\"Database: \" + login[\"dbName\"])"
   ]
  },
  {
   "cell_type": "markdown",
   "metadata": {},
   "source": [
    "Feel free to use to above URL to checkout the WebUI!"
   ]
  },
  {
   "cell_type": "markdown",
   "metadata": {},
   "source": [
    "##  IMDB Example Dataset"
   ]
  },
  {
   "cell_type": "markdown",
   "metadata": {},
   "source": [
    "![imdb](img/IMDB_graph.png)"
   ]
  },
  {
   "cell_type": "markdown",
   "metadata": {},
   "source": [
    "Last, but not least we will import the [IMBD Example Dataset](https://github.com/arangodb/example-datasets/tree/master/Graphs/IMDB) including information about various movies, actors, directors, ... as a graph. \n",
    "*Note the included arangorestore will only work on Linux or Windows systems, if you want to run this notebook on a different OS please consider using the appropriate arangorestore from the [Download area](https://www.arangodb.com/download-major/)."
   ]
  },
  {
   "cell_type": "markdown",
   "metadata": {},
   "source": [
    "## Linux:"
   ]
  },
  {
   "cell_type": "code",
   "execution_count": 9,
   "metadata": {},
   "outputs": [
    {
     "ename": "SyntaxError",
     "evalue": "invalid syntax (<ipython-input-9-36e9e40cff11>, line 1)",
     "output_type": "error",
     "traceback": [
      "\u001b[0;36m  File \u001b[0;32m\"<ipython-input-9-36e9e40cff11>\"\u001b[0;36m, line \u001b[0;32m1\u001b[0m\n\u001b[0;31m    echo./tools/arangorestore -c none --server.endpoint http+ssl://{login[\"hostname\"]}:{login[\"port\"]} --server.username {login[\"username\"]} --server.database {login[\"dbName\"]} --server.password {login[\"password\"]} --default-replication-factor 3  --input-directory \"data/imdb\"\u001b[0m\n\u001b[0m         ^\u001b[0m\n\u001b[0;31mSyntaxError\u001b[0m\u001b[0;31m:\u001b[0m invalid syntax\n"
     ]
    }
   ],
   "source": [
    "echo./tools/arangorestor -c none --server.endpoint http+ssl://{login[\"hostname\"]}:{login[\"port\"]} --server.username {login[\"username\"]} --server.database {login[\"dbName\"]} --server.password {login[\"password\"]} --default-replication-factor 3  --input-directory \"data/imdb\""
   ]
  },
  {
   "cell_type": "markdown",
   "metadata": {},
   "source": [
    "# Create First View"
   ]
  },
  {
   "cell_type": "markdown",
   "metadata": {},
   "source": [
    "As discussed above, an ArangoSearch view contains references to documents stored in different collections. \n",
    "This makes it possible to perform complex federated searches, even over a complete graph including vertex and edge collections."
   ]
  },
  {
   "cell_type": "code",
   "execution_count": null,
   "metadata": {},
   "outputs": [],
   "source": [
    "# Create an ArangoSearch view.\n",
    "database.create_arangosearch_view(\n",
    "    name='v_imdb',\n",
    "    properties={'cleanupIntervalStep': 0}\n",
    ")"
   ]
  },
  {
   "cell_type": "markdown",
   "metadata": {},
   "source": [
    "Let us check it is actually there:"
   ]
  },
  {
   "cell_type": "code",
   "execution_count": null,
   "metadata": {},
   "outputs": [],
   "source": [
    "print(database[\"v_imdb\"])"
   ]
  },
  {
   "cell_type": "markdown",
   "metadata": {},
   "source": [
    "As of now this view is empty, so we need to link it to a collection (i.e., imdb_vertices)."
   ]
  },
  {
   "cell_type": "code",
   "execution_count": null,
   "metadata": {},
   "outputs": [],
   "source": [
    " link = { \n",
    "  \"includeAllFields\": True,\n",
    "  \"fields\" : { \"description\" : { \"analyzers\" : [ \"text_en\" ] } }\n",
    "}\n",
    "\n",
    "database.update_arangosearch_view(\n",
    "    name='v_imdb',\n",
    "    properties={'links': { 'imdb_vertices': link }}\n",
    ")"
   ]
  },
  {
   "cell_type": "markdown",
   "metadata": {},
   "source": [
    "As the indexing might take a few seconds, let us have a brief look at what is actually going on."
   ]
  },
  {
   "cell_type": "markdown",
   "metadata": {},
   "source": [
    "![ArangoSearch](img/ArangoSearch_Arch.jpg)"
   ]
  },
  {
   "cell_type": "markdown",
   "metadata": {},
   "source": [
    "By now our view should be ready, so let us issue the first query and look for short Drama Movies."
   ]
  },
  {
   "cell_type": "code",
   "execution_count": null,
   "metadata": {},
   "outputs": [],
   "source": [
    "cursor = database.aql.execute(\n",
    "  'FOR d IN v_imdb SEARCH d.type == \"Movie\" AND d.genre == \"Drama\" AND d.runtime IN 10..50 RETURN d.title'\n",
    ")\n",
    "# Iterate through the result cursor\n",
    "for doc in cursor:\n",
    "  print(doc)"
   ]
  },
  {
   "cell_type": "markdown",
   "metadata": {},
   "source": [
    "## Levenshtein MATCH"
   ]
  },
  {
   "cell_type": "markdown",
   "metadata": {},
   "source": [
    "Proximity searching is a way to search for two or more words that occur within a certain number of words from each other.\n",
    "In the next example, we are looking for the word sequence \"in <any word> galaxy\" in the description of a movie.\n",
    "Feel free to try other values!"
   ]
  },
  {
   "cell_type": "code",
   "execution_count": null,
   "metadata": {},
   "outputs": [],
   "source": [
    "# Execute the query\n",
    "cursor = database.aql.execute(\n",
    "  'FOR d IN v_imdb SEARCH PHRASE(d.description, \"in\", 1, \"galaxy\", \"text_en\") RETURN {title:d.title, description: d.description}'\n",
    ")\n",
    "# Iterate through the result cursor\n",
    "for doc in cursor:\n",
    "  print(doc)"
   ]
  },
  {
   "cell_type": "code",
   "execution_count": null,
   "metadata": {},
   "outputs": [],
   "source": [
    "# Execute the query\n",
    "cursor = database.aql.execute(\n",
    "  \"\"\"FOR doc IN viewName\n",
    "  SEARCH NGRAM_MATCH(doc.text, \"galaxy\", \"text_en\")\n",
    "  RETURN doc.text\"\"\" \n",
    ")\n",
    "# Iterate through the result cursor\n",
    "for doc in cursor:\n",
    "  print(doc)"
   ]
  },
  {
   "cell_type": "markdown",
   "metadata": {},
   "source": [
    "## Ranking and Document Relevance"
   ]
  },
  {
   "cell_type": "markdown",
   "metadata": {},
   "source": [
    "Great, now we can identify documents containing a specific phrase,\n",
    "but especially with large document bases we need to be able to rank documents based on the their relevance.\n",
    "ArangoSearch supports the following two schemes:\n",
    "\n",
    "* [Okapi BM25](https://en.wikipedia.org/wiki/Okapi_BM25)\n",
    "\n",
    "* [TFIDF](https://en.wikipedia.org/wiki/Tf%E2%80%93idf)\n",
    "\n",
    "You can learn more about ranking in the [documentation](https://www.arangodb.com/docs/3.6/aql/functions-arangosearch.html#scoring-functions)."
   ]
  },
  {
   "cell_type": "markdown",
   "metadata": {},
   "source": [
    "So let us find movies with the following key-words: “amazing, action, world, alien, sci-fi, science, documental, galaxy”"
   ]
  },
  {
   "cell_type": "code",
   "execution_count": null,
   "metadata": {},
   "outputs": [],
   "source": [
    "cursor = database.aql.execute(\n",
    "  \"\"\"FOR d IN v_imdb \n",
    "  SEARCH ANALYZER(d.description IN TOKENS('amazing action world alien sci-fi science documental galaxy', 'text_en'), 'text_en') \n",
    "  SORT BM25(d) DESC \n",
    "  LIMIT 10 \n",
    "  RETURN {\"title\": d.title, \"description\" : d.description}\"\"\"\n",
    ")\n",
    "# Iterate through the result cursor\n",
    "for doc in cursor:\n",
    "  print(doc)"
   ]
  },
  {
   "cell_type": "markdown",
   "metadata": {},
   "source": [
    "Another crucial point of ArangoSearch is the ability to fine-tune document scores evaluated by relevance models at query time. That functionality is exposed in AQL via the BOOST function.\n",
    "So let us tweak our previous query to prefer “galaxy” amongst the others keywords."
   ]
  },
  {
   "cell_type": "code",
   "execution_count": null,
   "metadata": {},
   "outputs": [],
   "source": [
    "cursor = database.aql.execute(\n",
    "\"\"\"FOR d IN v_imdb \n",
    "   SEARCH ANALYZER(d.description IN TOKENS('amazing action world alien sci-fi science documental', 'text_en') ||\n",
    "   BOOST(d.description IN TOKENS('galaxy', 'text_en'), 5), 'text_en') \n",
    "   SORT BM25(d) DESC \n",
    "   LIMIT 10 \n",
    "   RETURN {\"title\": d.title, \"description\" : d.description}\"\"\"\n",
    ")\n",
    "# Iterate through the result cursor\n",
    "for doc in cursor:\n",
    "  print(doc)"
   ]
  },
  {
   "cell_type": "markdown",
   "metadata": {},
   "source": [
    "## ArangoSearch Meets Graph"
   ]
  },
  {
   "cell_type": "markdown",
   "metadata": {},
   "source": [
    "One of the coolest features of ArangoDB, being a multi-model database, is that we can combine different data-model and query capabilites.\n",
    "So, for example, we can easily combine ArangoSearch with a Graph traversal. Recall that our imdb dataset is a graph with edges connecting \n",
    "the movies we have been looking at to their respective actors, genres, or directors. Let us explore this and look up the director for each each of the Sci-fi movies above."
   ]
  },
  {
   "cell_type": "code",
   "execution_count": null,
   "metadata": {},
   "outputs": [],
   "source": [
    "cursor = database.aql.execute(\n",
    "\"\"\"\n",
    "FOR d IN v_imdb \n",
    "   SEARCH ANALYZER(d.description IN TOKENS('amazing action world alien sci-fi science documental', 'text_en') ||\n",
    "    BOOST(d.description IN TOKENS('galaxy', 'text_en'), 5), 'text_en') \n",
    "   SORT BM25(d) DESC \n",
    "   LIMIT 10 \n",
    "     FOR vertex, edge, path IN 1..1 INBOUND d imdb_edges\n",
    "     FILTER path.edges[0].$label == \"DIRECTED\"\n",
    "     RETURN DISTINCT {\"director\" : vertex.name, \"movie\" : d.title} \n",
    "\"\"\"\n",
    ")\n",
    "# Iterate through the result cursor\n",
    "for doc in cursor:\n",
    "  print(doc)"
   ]
  },
  {
   "cell_type": "markdown",
   "metadata": {},
   "source": [
    "# Further Links"
   ]
  },
  {
   "cell_type": "markdown",
   "metadata": {},
   "source": [
    "* https://www.arangodb.com/docs/stable/arangosearch.html\n",
    "\n",
    "* https://www.arangodb.com/arangodb-training-center/search/arangosearch/"
   ]
  }
 ],
 "metadata": {
  "kernelspec": {
   "display_name": "Python 2",
   "language": "python",
   "name": "python2"
  },
  "language_info": {
   "codemirror_mode": {
    "name": "ipython",
    "version": 3
   },
   "file_extension": ".py",
   "mimetype": "text/x-python",
   "name": "python",
   "nbconvert_exporter": "python",
   "pygments_lexer": "ipython3",
   "version": "3.7.7"
  }
 },
 "nbformat": 4,
 "nbformat_minor": 4
}
